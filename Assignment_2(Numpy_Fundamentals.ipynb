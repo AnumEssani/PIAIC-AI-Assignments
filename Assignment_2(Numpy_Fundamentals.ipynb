{
  "nbformat": 4,
  "nbformat_minor": 0,
  "metadata": {
    "kernelspec": {
      "display_name": "Python 3",
      "language": "python",
      "name": "python3"
    },
    "language_info": {
      "codemirror_mode": {
        "name": "ipython",
        "version": 3
      },
      "file_extension": ".py",
      "mimetype": "text/x-python",
      "name": "python",
      "nbconvert_exporter": "python",
      "pygments_lexer": "ipython3",
      "version": "3.7.3"
    },
    "colab": {
      "name": "Assignment#2(Numpy Fundamentals.ipynb",
      "provenance": [],
      "collapsed_sections": []
    }
  },
  "cells": [
    {
      "cell_type": "markdown",
      "metadata": {
        "id": "Ve7sN0jJfYhP"
      },
      "source": [
        "# Numpy_Assignment_2::"
      ]
    },
    {
      "cell_type": "markdown",
      "metadata": {
        "id": "LV2CrXlGfYha"
      },
      "source": [
        "## Question:1"
      ]
    },
    {
      "cell_type": "code",
      "metadata": {
        "id": "IBzLb3Ach3XT"
      },
      "source": [
        "import numpy as np\n"
      ],
      "execution_count": null,
      "outputs": []
    },
    {
      "cell_type": "markdown",
      "metadata": {
        "id": "NZ0b1rZ0fYhb"
      },
      "source": [
        "### Convert a 1D array to a 2D array with 2 rows?"
      ]
    },
    {
      "cell_type": "markdown",
      "metadata": {
        "id": "Kr2ZsbIafYhc"
      },
      "source": [
        "#### Desired output::"
      ]
    },
    {
      "cell_type": "markdown",
      "metadata": {
        "id": "beJKoHwrfYhc"
      },
      "source": [
        "array([[0, 1, 2, 3, 4],\n",
        "        [5, 6, 7, 8, 9]])"
      ]
    },
    {
      "cell_type": "code",
      "metadata": {
        "colab": {
          "base_uri": "https://localhost:8080/"
        },
        "id": "kKB5TbJCfYhd",
        "outputId": "e90a94e9-7bbe-44e1-8815-34b8ba5b224c"
      },
      "source": [
        "d1 = np.arange(10)\n",
        "d2 = d1.reshape(2,5)\n",
        "print('1D Array',d1)\n",
        "print('2D Array',d2)"
      ],
      "execution_count": null,
      "outputs": [
        {
          "output_type": "stream",
          "text": [
            "1D Array [0 1 2 3 4 5 6 7 8 9]\n",
            "2D Array [[0 1 2 3 4]\n",
            " [5 6 7 8 9]]\n"
          ],
          "name": "stdout"
        }
      ]
    },
    {
      "cell_type": "markdown",
      "metadata": {
        "id": "FxsV1tu4fYhe"
      },
      "source": [
        "## Question:2"
      ]
    },
    {
      "cell_type": "markdown",
      "metadata": {
        "id": "OduYVyUmfYhf"
      },
      "source": [
        "###  How to stack two arrays vertically?"
      ]
    },
    {
      "cell_type": "markdown",
      "metadata": {
        "id": "kJ2cIDQIfYhf"
      },
      "source": [
        "#### Desired Output::"
      ]
    },
    {
      "cell_type": "markdown",
      "metadata": {
        "id": "hNrf86V0fYhg"
      },
      "source": [
        "array([[0, 1, 2, 3, 4],\n",
        "        [5, 6, 7, 8, 9],\n",
        "       [1, 1, 1, 1, 1],\n",
        "       [1, 1, 1, 1, 1]])"
      ]
    },
    {
      "cell_type": "code",
      "metadata": {
        "colab": {
          "base_uri": "https://localhost:8080/"
        },
        "id": "jiZRvZv4fYhh",
        "outputId": "9d31f6e7-18aa-4e68-b30b-162b6e47aa8c"
      },
      "source": [
        " x = np.arange(10)\n",
        " y = np.arange(10)\n",
        "\n",
        " np.vstack((x,y))"
      ],
      "execution_count": null,
      "outputs": [
        {
          "output_type": "execute_result",
          "data": {
            "text/plain": [
              "array([[0, 1, 2, 3, 4, 5, 6, 7, 8, 9],\n",
              "       [0, 1, 2, 3, 4, 5, 6, 7, 8, 9]])"
            ]
          },
          "metadata": {
            "tags": []
          },
          "execution_count": 3
        }
      ]
    },
    {
      "cell_type": "markdown",
      "metadata": {
        "id": "mz9sxfTJfYhh"
      },
      "source": [
        "## Question:3"
      ]
    },
    {
      "cell_type": "markdown",
      "metadata": {
        "id": "rEHzuxEbfYhi"
      },
      "source": [
        "### How to stack two arrays horizontally?"
      ]
    },
    {
      "cell_type": "markdown",
      "metadata": {
        "id": "8TPLiiU8fYhi"
      },
      "source": [
        "#### Desired Output::"
      ]
    },
    {
      "cell_type": "markdown",
      "metadata": {
        "id": "KUfOxkMTfYhi"
      },
      "source": [
        "array([[0, 1, 2, 3, 4, 1, 1, 1, 1, 1],\n",
        "       [5, 6, 7, 8, 9, 1, 1, 1, 1, 1]])"
      ]
    },
    {
      "cell_type": "code",
      "metadata": {
        "colab": {
          "base_uri": "https://localhost:8080/"
        },
        "id": "2DzlkK89fYhj",
        "outputId": "532cc39c-ecc3-4e61-c87b-b5136c443b7b"
      },
      "source": [
        " x = np.arange(10)\n",
        " y = np.arange(10)\n",
        "\n",
        " np.hstack((x,y))"
      ],
      "execution_count": null,
      "outputs": [
        {
          "output_type": "execute_result",
          "data": {
            "text/plain": [
              "array([0, 1, 2, 3, 4, 5, 6, 7, 8, 9, 0, 1, 2, 3, 4, 5, 6, 7, 8, 9])"
            ]
          },
          "metadata": {
            "tags": []
          },
          "execution_count": 4
        }
      ]
    },
    {
      "cell_type": "markdown",
      "metadata": {
        "id": "F3D3tulsfYhj"
      },
      "source": [
        "## Question:4"
      ]
    },
    {
      "cell_type": "markdown",
      "metadata": {
        "id": "8wpKRp-6fYhk"
      },
      "source": [
        "### How to convert an array of arrays into a flat 1d array?"
      ]
    },
    {
      "cell_type": "markdown",
      "metadata": {
        "id": "-i_vhHkufYhk"
      },
      "source": [
        "#### Desired Output::"
      ]
    },
    {
      "cell_type": "markdown",
      "metadata": {
        "id": "TW3HSJ0gfYhl"
      },
      "source": [
        "array([0, 1, 2, 3, 4, 5, 6, 7, 8, 9])"
      ]
    },
    {
      "cell_type": "code",
      "metadata": {
        "colab": {
          "base_uri": "https://localhost:8080/"
        },
        "id": "L1r9YhenfYhl",
        "outputId": "0fd5e3da-0695-40cb-c158-e150af798d30"
      },
      "source": [
        "multi_array = np.random.rand(5,2,3)\n",
        "flaten = multi_array.flatten()\n",
        "print('ND Array',multi_array)\n",
        "print('1D Array',flaten)"
      ],
      "execution_count": null,
      "outputs": [
        {
          "output_type": "stream",
          "text": [
            "ND Array [[[0.729691   0.18751883 0.61097214]\n",
            "  [0.20281557 0.23571699 0.76151339]]\n",
            "\n",
            " [[0.24042522 0.52842129 0.17126728]\n",
            "  [0.5842863  0.06018962 0.45089436]]\n",
            "\n",
            " [[0.14261655 0.35930091 0.75480573]\n",
            "  [0.56476562 0.18397486 0.13763462]]\n",
            "\n",
            " [[0.86434918 0.18247911 0.75072109]\n",
            "  [0.51702574 0.98150235 0.7519133 ]]\n",
            "\n",
            " [[0.08600708 0.27541689 0.87975586]\n",
            "  [0.00127755 0.5864263  0.79720186]]]\n",
            "1D Array [0.729691   0.18751883 0.61097214 0.20281557 0.23571699 0.76151339\n",
            " 0.24042522 0.52842129 0.17126728 0.5842863  0.06018962 0.45089436\n",
            " 0.14261655 0.35930091 0.75480573 0.56476562 0.18397486 0.13763462\n",
            " 0.86434918 0.18247911 0.75072109 0.51702574 0.98150235 0.7519133\n",
            " 0.08600708 0.27541689 0.87975586 0.00127755 0.5864263  0.79720186]\n"
          ],
          "name": "stdout"
        }
      ]
    },
    {
      "cell_type": "markdown",
      "metadata": {
        "id": "Fsm31WUVfYhl"
      },
      "source": [
        "## Question:5"
      ]
    },
    {
      "cell_type": "markdown",
      "metadata": {
        "id": "oIhYAY0nfYhm"
      },
      "source": [
        "### How to Convert higher dimension into one dimension?"
      ]
    },
    {
      "cell_type": "markdown",
      "metadata": {
        "id": "VsW5nWSFfYhm"
      },
      "source": [
        "#### Desired Output::"
      ]
    },
    {
      "cell_type": "markdown",
      "metadata": {
        "id": "aoc8vwgwfYhm"
      },
      "source": [
        "array([ 0, 1, 2, 3, 4, 5, 6, 7, 8, 9, 10, 11, 12, 13, 14])"
      ]
    },
    {
      "cell_type": "code",
      "metadata": {
        "id": "iWSWIkpjfYhn",
        "colab": {
          "base_uri": "https://localhost:8080/"
        },
        "outputId": "b8b832cb-4ac4-4527-a875-2c19a907d50a"
      },
      "source": [
        "arr5 = np.array([\n",
        "    [ 0, 1, 2],\n",
        "    [ 3, 4, 5],\n",
        "    [ 6, 7, 8],\n",
        "    [ 9, 10, 11],\n",
        "    [12, 13, 14]\n",
        "])\n",
        "arr5 = np.ravel(arr5)\n",
        "print(arr5)"
      ],
      "execution_count": null,
      "outputs": [
        {
          "output_type": "stream",
          "text": [
            "[ 0  1  2  3  4  5  6  7  8  9 10 11 12 13 14]\n"
          ],
          "name": "stdout"
        }
      ]
    },
    {
      "cell_type": "markdown",
      "metadata": {
        "id": "BQxdCRqrfYhn"
      },
      "source": [
        "## Question:6"
      ]
    },
    {
      "cell_type": "markdown",
      "metadata": {
        "id": "TUr7ubSUfYhn"
      },
      "source": [
        "### Convert one dimension to higher dimension?"
      ]
    },
    {
      "cell_type": "markdown",
      "metadata": {
        "id": "zgWKwpuHfYhn"
      },
      "source": [
        "#### Desired Output::"
      ]
    },
    {
      "cell_type": "markdown",
      "metadata": {
        "id": "CI25smMDfYho"
      },
      "source": [
        "array([[ 0, 1, 2],\n",
        "[ 3, 4, 5],\n",
        "[ 6, 7, 8],\n",
        "[ 9, 10, 11],\n",
        "[12, 13, 14]])"
      ]
    },
    {
      "cell_type": "code",
      "metadata": {
        "id": "fOENNl0OfYho",
        "colab": {
          "base_uri": "https://localhost:8080/"
        },
        "outputId": "e845ace5-ec3c-4523-bedf-3e4e16733a01"
      },
      "source": [
        "arr5.reshape(5,3)"
      ],
      "execution_count": null,
      "outputs": [
        {
          "output_type": "execute_result",
          "data": {
            "text/plain": [
              "array([[ 0,  1,  2],\n",
              "       [ 3,  4,  5],\n",
              "       [ 6,  7,  8],\n",
              "       [ 9, 10, 11],\n",
              "       [12, 13, 14]])"
            ]
          },
          "metadata": {
            "tags": []
          },
          "execution_count": 7
        }
      ]
    },
    {
      "cell_type": "markdown",
      "metadata": {
        "id": "sxaBV6NGfYho"
      },
      "source": [
        "## Question:7"
      ]
    },
    {
      "cell_type": "markdown",
      "metadata": {
        "id": "EaXzjqcKfYho"
      },
      "source": [
        "### Create 5x5 an array and find the square of an array?"
      ]
    },
    {
      "cell_type": "code",
      "metadata": {
        "id": "CPkob6n4fYhp",
        "colab": {
          "base_uri": "https://localhost:8080/"
        },
        "outputId": "9623573e-8164-48be-9b21-32563d2600ec"
      },
      "source": [
        "arr6 = np.random.randint(1,25, size = (5,5))\n",
        "print(\"Original Array: \\n\")\n",
        "print (arr6)\n",
        "print(\"\\n\")\n",
        "print(\"Square of Array: \\n\")\n",
        "print(arr6 ** 2)"
      ],
      "execution_count": null,
      "outputs": [
        {
          "output_type": "stream",
          "text": [
            "Original Array: \n",
            "\n",
            "[[ 2  1 17 19  5]\n",
            " [24 22 20 19  3]\n",
            " [16 23 12  7  1]\n",
            " [ 4  1  3 14  2]\n",
            " [10  1  2 23 20]]\n",
            "\n",
            "\n",
            "Square of Array: \n",
            "\n",
            "[[  4   1 289 361  25]\n",
            " [576 484 400 361   9]\n",
            " [256 529 144  49   1]\n",
            " [ 16   1   9 196   4]\n",
            " [100   1   4 529 400]]\n"
          ],
          "name": "stdout"
        }
      ]
    },
    {
      "cell_type": "markdown",
      "metadata": {
        "id": "aB6i0w3wfYhp"
      },
      "source": [
        "## Question:8"
      ]
    },
    {
      "cell_type": "markdown",
      "metadata": {
        "id": "vJMvdrNdfYhp"
      },
      "source": [
        "### Create 5x6 an array and find the mean?"
      ]
    },
    {
      "cell_type": "code",
      "metadata": {
        "id": "9gUv2OBffYhp",
        "colab": {
          "base_uri": "https://localhost:8080/"
        },
        "outputId": "4e4ada38-02a3-461e-c328-871d7efaaf24"
      },
      "source": [
        "arr8 = np.random.randint(1,20, size = (5,6))\n",
        "print(\"Original Array: \\n\")\n",
        "print (arr8)\n",
        "print(\"\\n\")\n",
        "print(\"Mean of Array: \\n\")\n",
        "print(arr8.mean())"
      ],
      "execution_count": null,
      "outputs": [
        {
          "output_type": "stream",
          "text": [
            "Original Array: \n",
            "\n",
            "[[13  6  1  7 15 16]\n",
            " [ 9  4  9  2  6 15]\n",
            " [ 4  7 15  6  1  4]\n",
            " [10  1 18 17  1 12]\n",
            " [ 2 10  9  2 15  3]]\n",
            "\n",
            "\n",
            "Mean of Array: \n",
            "\n",
            "8.0\n"
          ],
          "name": "stdout"
        }
      ]
    },
    {
      "cell_type": "markdown",
      "metadata": {
        "id": "GkES-VUNfYhq"
      },
      "source": [
        "## Question:9"
      ]
    },
    {
      "cell_type": "markdown",
      "metadata": {
        "id": "1Mua9Uf4fYhq"
      },
      "source": [
        "### Find the standard deviation of the previous array in Q8?"
      ]
    },
    {
      "cell_type": "code",
      "metadata": {
        "id": "R083i1XLfYhq",
        "colab": {
          "base_uri": "https://localhost:8080/"
        },
        "outputId": "4e3d3ef5-c047-408c-d529-b6ac590e8c3e"
      },
      "source": [
        "print(\"Original Array: \\n\")\n",
        "print (arr8)\n",
        "print(\"\\n\")\n",
        "print(\"Standard deviation of Array: \\n\")\n",
        "print(np.std(arr8))"
      ],
      "execution_count": null,
      "outputs": [
        {
          "output_type": "stream",
          "text": [
            "Original Array: \n",
            "\n",
            "[[13  6  1  7 15 16]\n",
            " [ 9  4  9  2  6 15]\n",
            " [ 4  7 15  6  1  4]\n",
            " [10  1 18 17  1 12]\n",
            " [ 2 10  9  2 15  3]]\n",
            "\n",
            "\n",
            "Standard deviation of Array: \n",
            "\n",
            "5.428320796219275\n"
          ],
          "name": "stdout"
        }
      ]
    },
    {
      "cell_type": "markdown",
      "metadata": {
        "id": "vKzp8s8-fYhq"
      },
      "source": [
        "## Question:10"
      ]
    },
    {
      "cell_type": "markdown",
      "metadata": {
        "id": "U0RNdgpWfYhr"
      },
      "source": [
        "### Find the median of the previous array in Q8?"
      ]
    },
    {
      "cell_type": "code",
      "metadata": {
        "id": "GXyWvnjlfYhr",
        "colab": {
          "base_uri": "https://localhost:8080/"
        },
        "outputId": "d59cef18-441b-4b0d-9439-c3c6918207f0"
      },
      "source": [
        "print(\"Original Array: \\n\")\n",
        "print (arr8)\n",
        "print(\"\\n\")\n",
        "print(\"Median of Array: \\n\")\n",
        "print(np.median(arr8))"
      ],
      "execution_count": null,
      "outputs": [
        {
          "output_type": "stream",
          "text": [
            "Original Array: \n",
            "\n",
            "[[13  6  1  7 15 16]\n",
            " [ 9  4  9  2  6 15]\n",
            " [ 4  7 15  6  1  4]\n",
            " [10  1 18 17  1 12]\n",
            " [ 2 10  9  2 15  3]]\n",
            "\n",
            "\n",
            "Median of Array: \n",
            "\n",
            "7.0\n"
          ],
          "name": "stdout"
        }
      ]
    },
    {
      "cell_type": "markdown",
      "metadata": {
        "id": "PMk9AlhTfYhr"
      },
      "source": [
        "## Question:11"
      ]
    },
    {
      "cell_type": "markdown",
      "metadata": {
        "id": "hQ3b8z7qfYhr"
      },
      "source": [
        "### Find the transpose of the previous array in Q8?"
      ]
    },
    {
      "cell_type": "code",
      "metadata": {
        "id": "o8FiZVlQfYhr",
        "colab": {
          "base_uri": "https://localhost:8080/"
        },
        "outputId": "91300524-260a-4a23-9e2e-2c6988ee4f48"
      },
      "source": [
        "print(\"Original Array: \\n\")\n",
        "print (arr8)\n",
        "print(\"\\n\")\n",
        "print(\"Transpose of Array: \\n\")\n",
        "print(np.transpose(arr8))"
      ],
      "execution_count": null,
      "outputs": [
        {
          "output_type": "stream",
          "text": [
            "Original Array: \n",
            "\n",
            "[[13  6  1  7 15 16]\n",
            " [ 9  4  9  2  6 15]\n",
            " [ 4  7 15  6  1  4]\n",
            " [10  1 18 17  1 12]\n",
            " [ 2 10  9  2 15  3]]\n",
            "\n",
            "\n",
            "Transpose of Array: \n",
            "\n",
            "[[13  9  4 10  2]\n",
            " [ 6  4  7  1 10]\n",
            " [ 1  9 15 18  9]\n",
            " [ 7  2  6 17  2]\n",
            " [15  6  1  1 15]\n",
            " [16 15  4 12  3]]\n"
          ],
          "name": "stdout"
        }
      ]
    },
    {
      "cell_type": "markdown",
      "metadata": {
        "id": "_JVIggTlfYhs"
      },
      "source": [
        "## Question:12"
      ]
    },
    {
      "cell_type": "markdown",
      "metadata": {
        "id": "20MJT7dOfYhs"
      },
      "source": [
        "### Create a 4x4 an array and find the sum of diagonal elements?"
      ]
    },
    {
      "cell_type": "code",
      "metadata": {
        "id": "yWqlAvZQfYhs",
        "colab": {
          "base_uri": "https://localhost:8080/"
        },
        "outputId": "e40fa21d-bf18-4bbc-b2e2-ef85d7a70023"
      },
      "source": [
        "arr7 = np.random.randint(1,20, size = (4,4))\n",
        "print(\"Original Array: \\n\")\n",
        "print (arr7)\n",
        "print(\"\\n\")\n",
        "print(\"Sum of diagonal elements of Array: \\n\")\n",
        "print(np.trace(arr7))"
      ],
      "execution_count": null,
      "outputs": [
        {
          "output_type": "stream",
          "text": [
            "Original Array: \n",
            "\n",
            "[[ 3 14 14  4]\n",
            " [ 7 12  2 14]\n",
            " [ 4  9  9  6]\n",
            " [14  8  5 15]]\n",
            "\n",
            "\n",
            "Sum of diagonal elements of Array: \n",
            "\n",
            "39\n"
          ],
          "name": "stdout"
        }
      ]
    },
    {
      "cell_type": "markdown",
      "metadata": {
        "id": "t-HJm3LFfYhs"
      },
      "source": [
        "## Question:13"
      ]
    },
    {
      "cell_type": "markdown",
      "metadata": {
        "id": "JqpxSkUqfYht"
      },
      "source": [
        "### Find the determinant of the previous array in Q12?"
      ]
    },
    {
      "cell_type": "code",
      "metadata": {
        "id": "uFuC9hIRfYht",
        "colab": {
          "base_uri": "https://localhost:8080/"
        },
        "outputId": "eb7e2664-b9c5-4987-8671-155da8d591b2"
      },
      "source": [
        "print(\"Original Array: \\n\")\n",
        "print (arr7)\n",
        "print(\"\\n\")\n",
        "print(\"Determinant of Array: \\n\")\n",
        "print(np.linalg.det(arr7))"
      ],
      "execution_count": null,
      "outputs": [
        {
          "output_type": "stream",
          "text": [
            "Original Array: \n",
            "\n",
            "[[ 3 14 14  4]\n",
            " [ 7 12  2 14]\n",
            " [ 4  9  9  6]\n",
            " [14  8  5 15]]\n",
            "\n",
            "\n",
            "Determinant of Array: \n",
            "\n",
            "2491.999999999998\n"
          ],
          "name": "stdout"
        }
      ]
    },
    {
      "cell_type": "markdown",
      "metadata": {
        "id": "hxCGTQHyfYht"
      },
      "source": [
        "## Question:14"
      ]
    },
    {
      "cell_type": "markdown",
      "metadata": {
        "id": "HCPzJyckfYht"
      },
      "source": [
        "### Find the 5th and 95th percentile of an array?"
      ]
    },
    {
      "cell_type": "code",
      "metadata": {
        "id": "AnLvpRLGfYht",
        "colab": {
          "base_uri": "https://localhost:8080/"
        },
        "outputId": "45a2e1b4-409b-4a32-e444-679d978dc95a"
      },
      "source": [
        "print(\"Original Array: \\n\")\n",
        "print (arr7)\n",
        "print(\"\\n\")\n",
        "print(f\"5th percentile of array: {np.percentile(arr7, 5)}\")\n",
        "print(f\"95th percentile of array: {np.percentile(arr7, 95)}\")"
      ],
      "execution_count": null,
      "outputs": [
        {
          "output_type": "stream",
          "text": [
            "Original Array: \n",
            "\n",
            "[[ 3 14 14  4]\n",
            " [ 7 12  2 14]\n",
            " [ 4  9  9  6]\n",
            " [14  8  5 15]]\n",
            "\n",
            "\n",
            "5th percentile of array: 2.75\n",
            "95th percentile of array: 14.25\n"
          ],
          "name": "stdout"
        }
      ]
    },
    {
      "cell_type": "markdown",
      "metadata": {
        "id": "TTB8Gc68fYhu"
      },
      "source": [
        "## Question:15"
      ]
    },
    {
      "cell_type": "markdown",
      "metadata": {
        "id": "0Cf4tdmvfYhw"
      },
      "source": [
        "### How to find if a given array has any null values?"
      ]
    },
    {
      "cell_type": "code",
      "metadata": {
        "id": "jQyqP25kfYhx",
        "colab": {
          "base_uri": "https://localhost:8080/"
        },
        "outputId": "41319949-318b-47eb-919e-ada356d92b8f"
      },
      "source": [
        "np.isnan(arr7).any()"
      ],
      "execution_count": null,
      "outputs": [
        {
          "output_type": "execute_result",
          "data": {
            "text/plain": [
              "False"
            ]
          },
          "metadata": {
            "tags": []
          },
          "execution_count": 16
        }
      ]
    }
  ]
}